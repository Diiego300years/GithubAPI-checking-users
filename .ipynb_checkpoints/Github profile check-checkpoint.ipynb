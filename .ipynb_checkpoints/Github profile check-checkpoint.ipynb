{
 "cells": [
  {
   "cell_type": "code",
   "execution_count": 15,
   "id": "99cc01ef",
   "metadata": {
    "pycharm": {
     "name": "#%%\n"
    }
   },
   "outputs": [
    {
     "name": "stdout",
     "output_type": "stream",
     "text": [
      "|    Name   | Size | Contributors Count |    Branch   | Is Protected |\n",
      "| Adelaide  | 1295 |            1158259 | 77777777777 | 600.5        |\n",
      "| Brisbane  | 5905 |            1857594 | 777777777   | 1146.4       |\n",
      "| Darwin    |  112 |             120900 | 777777      | 1714.7       |\n",
      "| Hobart    | 1357 |             205556 | 7777        | 619.5        |\n",
      "| Sydney    | 2058 |            4336374 | 777         | 1214.8       |\n",
      "| Melbourne | 1566 |            3806092 | 7777        | 646.9        |\n",
      "| Perth     | 5386 |            1554769 | 7777        | 869.4        |\n"
     ]
    }
   ],
   "source": [
    "from prettytable import PrettyTable\n",
    "from prettytable import MSWORD_FRIENDLY\n",
    "\n",
    "\n",
    "x = PrettyTable()\n",
    "x.field_names = [\"Name\", \"Size\", \"Contributors Count\", \"Branch\", \"Is Protected\"]\n",
    "x.align[\"Name\"] = \"l\"\n",
    "x.align[\"Size\"] = \"r\"\n",
    "x.align[\"Contributors Count\"] = \"r\"\n",
    "x.align['Branch'] = \"l\"\n",
    "x.align[\"Is Protected\"] = \"l\"\n",
    "x.add_rows(\n",
    "    [\n",
    "        [\"Adelaide\", 1295, 1158259,77777777777, 600.5],\n",
    "        [\"Brisbane\", 5905, 1857594, 777777777, 1146.4],\n",
    "        [\"Darwin\", 112, 120900, 777777, 1714.7],\n",
    "        [\"Hobart\", 1357, 205556, 7777, 619.5],\n",
    "        [\"Sydney\", 2058, 4336374, 777, 1214.8],\n",
    "        [\"Melbourne\", 1566, 3806092,7777,  646.9],\n",
    "        [\"Perth\", 5386, 1554769, 7777, 869.4],\n",
    "    ]\n",
    ")\n",
    "x.set_style(PLAIN_COLUMNS)\n",
    "print(x)\n"
   ]
  },
  {
   "cell_type": "code",
   "execution_count": null,
   "id": "b4e250cb",
   "metadata": {
    "pycharm": {
     "name": "#%%\n"
    }
   },
   "outputs": [],
   "source": []
  }
 ],
 "metadata": {
  "kernelspec": {
   "display_name": "Python 3 (ipykernel)",
   "language": "python",
   "name": "python3"
  },
  "language_info": {
   "codemirror_mode": {
    "name": "ipython",
    "version": 3
   },
   "file_extension": ".py",
   "mimetype": "text/x-python",
   "name": "python",
   "nbconvert_exporter": "python",
   "pygments_lexer": "ipython3",
   "version": "3.9.7"
  }
 },
 "nbformat": 4,
 "nbformat_minor": 5
}